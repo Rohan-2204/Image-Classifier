{
  "nbformat": 4,
  "nbformat_minor": 0,
  "metadata": {
    "colab": {
      "name": "Untitled0.ipynb",
      "provenance": [],
      "collapsed_sections": []
    },
    "kernelspec": {
      "name": "python3",
      "display_name": "Python 3"
    },
    "accelerator": "GPU"
  },
  "cells": [
    {
      "cell_type": "code",
      "metadata": {
        "id": "yuu2fZohWT8O"
      },
      "source": [
        "import torch\n",
        "import torch.nn as nn\n",
        "import numpy\n",
        "import matplotlib.pyplot as plt\n",
        "import torchvision\n",
        "from torchvision.datasets import CIFAR10\n",
        "from torchvision.transforms import transforms\n",
        "from torch.utils.data import DataLoader\n",
        "from torch.optim import Adam\n",
        "from torch.autograd import Variable"
      ],
      "execution_count": null,
      "outputs": []
    },
    {
      "cell_type": "code",
      "metadata": {
        "id": "dC31mHPTXFLN"
      },
      "source": [
        "class Unit(nn.Module):\n",
        "    \n",
        "    def __init__(self,in_channels,out_channels):\n",
        "        super(Unit,self).__init__()\n",
        "        \n",
        "        self.conv = nn.Conv2d(in_channels=in_channels,out_channels=out_channels,kernel_size=3,stride=1,padding=1)\n",
        "        self.bn = nn.BatchNorm2d(num_features=out_channels)\n",
        "        self.relu = nn.ReLU()\n",
        "        \n",
        "    def forward(self,input):\n",
        "        \n",
        "        output = self.conv(input)\n",
        "        output = self.bn(output)\n",
        "        output = self.relu(output)\n",
        "        \n",
        "        return output"
      ],
      "execution_count": null,
      "outputs": []
    },
    {
      "cell_type": "code",
      "metadata": {
        "id": "NdQN1L_8Te91"
      },
      "source": [
        "class SimpleNet(nn.Module):\n",
        "    \n",
        "    def __init__(self,num_classes=10):\n",
        "        \n",
        "        super(SimpleNet,self).__init__()\n",
        "        \n",
        "        self.unit1 = Unit(in_channels=3,out_channels=32)\n",
        "        self.unit2 = Unit(in_channels=32,out_channels=32)\n",
        "        self.unit3 = Unit(in_channels=32,out_channels=32)\n",
        "        \n",
        "        self.pool1 = nn.MaxPool2d(kernel_size=2)\n",
        "        \n",
        "        self.unit4 = Unit(in_channels=32, out_channels=64)\n",
        "        self.unit5 = Unit(in_channels=64, out_channels=64)\n",
        "        self.unit6 = Unit(in_channels=64, out_channels=64)\n",
        "        self.unit7 = Unit(in_channels=64, out_channels=64)\n",
        "\n",
        "        self.pool2 = nn.MaxPool2d(kernel_size=2)\n",
        "\n",
        "        self.unit8 = Unit(in_channels=64, out_channels=128)\n",
        "        self.unit9 = Unit(in_channels=128, out_channels=128)\n",
        "        self.unit10 = Unit(in_channels=128, out_channels=128)\n",
        "        self.unit11 = Unit(in_channels=128, out_channels=128)\n",
        "\n",
        "        self.pool3 = nn.MaxPool2d(kernel_size=2)\n",
        "\n",
        "        self.unit12 = Unit(in_channels=128, out_channels=128)\n",
        "        self.unit13 = Unit(in_channels=128, out_channels=128)\n",
        "        self.unit14 = Unit(in_channels=128, out_channels=128)\n",
        "\n",
        "        self.avgpool = nn.AvgPool2d(kernel_size=4)\n",
        "        \n",
        "        self.net = nn.Sequential(self.unit1,self.unit2,self.unit3,self.pool1,self.unit4,\n",
        "                                self.unit5,self.unit6,self.unit7,self.pool2,self.unit8,self.unit9,\n",
        "                                self.unit10,self.unit11,self.pool3,self.unit12,self.unit13,self.unit14,\n",
        "                                self.avgpool)\n",
        "        \n",
        "        self.fc = nn.Linear(in_features = 128 , out_features=num_classes)\n",
        "        \n",
        "        \n",
        "    def forward(self,input):\n",
        "        \n",
        "        output = self.net(input)\n",
        "        output = output.view(-1,128)\n",
        "        output = self.fc(output)\n",
        "        \n",
        "        return output"
      ],
      "execution_count": null,
      "outputs": []
    },
    {
      "cell_type": "code",
      "metadata": {
        "id": "fxdyua3BTlaw",
        "outputId": "9e375ec1-fa2f-4682-aeb0-9d9fece3f3fb",
        "colab": {
          "base_uri": "https://localhost:8080/",
          "height": 34
        }
      },
      "source": [
        "train_transformations = transforms.Compose([\n",
        "    transforms.RandomHorizontalFlip(),\n",
        "    transforms.RandomCrop(32,padding=4),\n",
        "    transforms.ToTensor(),\n",
        "    transforms.Normalize((0.5,0.5,0.5),(0.5,0.5,0.5))\n",
        "])\n",
        "\n",
        "train_set = CIFAR10(root=\"./data\",train=True,transform=train_transformations,download=True)\n",
        "train_loader = DataLoader(train_set,batch_size=32,shuffle=True,num_workers=4)"
      ],
      "execution_count": null,
      "outputs": [
        {
          "output_type": "stream",
          "text": [
            "Files already downloaded and verified\n"
          ],
          "name": "stdout"
        }
      ]
    },
    {
      "cell_type": "code",
      "metadata": {
        "id": "huO5XIhxTt9t",
        "outputId": "269c5e50-5d4c-4376-dccb-9e56f21f3646",
        "colab": {
          "base_uri": "https://localhost:8080/",
          "height": 34
        }
      },
      "source": [
        "test_transformations = transforms.Compose([\n",
        "    transforms.ToTensor(),\n",
        "    transforms.Normalize((0.5, 0.5, 0.5), (0.5, 0.5, 0.5))\n",
        "\n",
        "])\n",
        "\n",
        "# Load the test set, note that train is set to False\n",
        "test_set = CIFAR10(root=\"./data\", train=False, transform=test_transformations, download=True)\n",
        "\n",
        "# Create a loder for the test set, note that both shuffle is set to false for the test loader\n",
        "test_loader = DataLoader(test_set, batch_size=32, shuffle=False, num_workers=4)\n"
      ],
      "execution_count": null,
      "outputs": [
        {
          "output_type": "stream",
          "text": [
            "Files already downloaded and verified\n"
          ],
          "name": "stdout"
        }
      ]
    },
    {
      "cell_type": "code",
      "metadata": {
        "id": "hufNRH3AUANY"
      },
      "source": [
        "cuda_avail = torch.cuda.is_available()\n",
        "model = SimpleNet()\n",
        "\n",
        "if cuda_avail:\n",
        "  model.cuda()\n",
        "\n",
        "optimizer = Adam(model.parameters(),lr=0.001,weight_decay=0.0001)\n",
        "criterion = nn.CrossEntropyLoss()"
      ],
      "execution_count": null,
      "outputs": []
    },
    {
      "cell_type": "code",
      "metadata": {
        "id": "hv1l_olRUE92"
      },
      "source": [
        "def train(num_epochs):\n",
        "    best_acc=0\n",
        "    \n",
        "    for epoch in range(num_epochs):\n",
        "        model.train()\n",
        "        train_acc = 0.0\n",
        "        train_loss = 0.0\n",
        "        \n",
        "        for i,(images,labels) in enumerate(train_loader):\n",
        "            \n",
        "            if cuda_avail:\n",
        "              images = Variable(images.cuda())\n",
        "              labels = Variable(labels.cuda())\n",
        "              \n",
        "            optimizer.zero_grad()\n",
        "            outputs = model(images)\n",
        "            \n",
        "            loss = criterion(outputs,labels)\n",
        "            \n",
        "            loss.backward()\n",
        "            \n",
        "            optimizer.step()\n",
        "            \n",
        "            _,prediction = torch.max(outputs.data,1)\n",
        "            \n",
        "            train_acc += torch.sum(prediction==labels.data)\n",
        "            \n",
        "        train_acc = train_acc/50000\n",
        "        test_acc = test()\n",
        "        \n",
        "        print(\"Epoch {} , Train Accuracy:{} , Test Accuracy:{}\".format(epoch , train_acc , test_acc))"
      ],
      "execution_count": null,
      "outputs": []
    },
    {
      "cell_type": "code",
      "metadata": {
        "id": "Nab0TfuiUKSp"
      },
      "source": [
        "def test():\n",
        "    model.eval()\n",
        "    test_acc = 0.0\n",
        "    \n",
        "    for i,(images,labels) in enumerate(test_loader):\n",
        "\n",
        "      if cuda_avail:\n",
        "        images = Variable(images.cuda())\n",
        "        labels = Variable(labels.cuda())\n",
        "        \n",
        "        outputs = model(images)\n",
        "        _,prediction = torch.max(outputs.data,1)\n",
        "        \n",
        "        test_acc += torch.sum(prediction == labels.data)\n",
        "        \n",
        "    test_acc = test_acc/10000\n",
        "    \n",
        "    return test_acc\n",
        "        \n",
        "    "
      ],
      "execution_count": null,
      "outputs": []
    },
    {
      "cell_type": "code",
      "metadata": {
        "id": "zw1tsNJlUNI2",
        "outputId": "2d87394d-7b11-466a-f171-ab966b920f41",
        "colab": {
          "base_uri": "https://localhost:8080/",
          "height": 357
        }
      },
      "source": [
        "train(20)"
      ],
      "execution_count": null,
      "outputs": [
        {
          "output_type": "stream",
          "text": [
            "Epoch 0 , Train Accuracy:0.38830000162124634 , Test Accuracy:0.5031999945640564\n",
            "Epoch 1 , Train Accuracy:0.5592199563980103 , Test Accuracy:0.6122999787330627\n",
            "Epoch 2 , Train Accuracy:0.6360399723052979 , Test Accuracy:0.6541999578475952\n",
            "Epoch 3 , Train Accuracy:0.6811800003051758 , Test Accuracy:0.6875\n",
            "Epoch 4 , Train Accuracy:0.7226200103759766 , Test Accuracy:0.7279999852180481\n",
            "Epoch 5 , Train Accuracy:0.7505199909210205 , Test Accuracy:0.774399995803833\n",
            "Epoch 6 , Train Accuracy:0.7679399847984314 , Test Accuracy:0.7730000019073486\n",
            "Epoch 7 , Train Accuracy:0.7849400043487549 , Test Accuracy:0.8068000078201294\n",
            "Epoch 8 , Train Accuracy:0.7970799803733826 , Test Accuracy:0.7936999797821045\n",
            "Epoch 9 , Train Accuracy:0.809179961681366 , Test Accuracy:0.8080999851226807\n",
            "Epoch 10 , Train Accuracy:0.8208999633789062 , Test Accuracy:0.8181999921798706\n",
            "Epoch 11 , Train Accuracy:0.8250399827957153 , Test Accuracy:0.820099949836731\n",
            "Epoch 12 , Train Accuracy:0.8346399664878845 , Test Accuracy:0.8263999819755554\n",
            "Epoch 13 , Train Accuracy:0.8423199653625488 , Test Accuracy:0.8357999920845032\n",
            "Epoch 14 , Train Accuracy:0.8448799848556519 , Test Accuracy:0.82669997215271\n",
            "Epoch 15 , Train Accuracy:0.8504599928855896 , Test Accuracy:0.8473999500274658\n",
            "Epoch 16 , Train Accuracy:0.8552999496459961 , Test Accuracy:0.8567999601364136\n",
            "Epoch 17 , Train Accuracy:0.8607999682426453 , Test Accuracy:0.8540999889373779\n",
            "Epoch 18 , Train Accuracy:0.8632799983024597 , Test Accuracy:0.8560000061988831\n",
            "Epoch 19 , Train Accuracy:0.8670399785041809 , Test Accuracy:0.852899968624115\n"
          ],
          "name": "stdout"
        }
      ]
    },
    {
      "cell_type": "code",
      "metadata": {
        "id": "dhF35WXfUSXp",
        "colab": {
          "base_uri": "https://localhost:8080/",
          "height": 867
        },
        "outputId": "b6f3fe92-f853-429d-a76d-2d84754cf5aa"
      },
      "source": [
        "train(50)"
      ],
      "execution_count": null,
      "outputs": [
        {
          "output_type": "stream",
          "text": [
            "Epoch 0 , Train Accuracy:0.8734999895095825 , Test Accuracy:0.859499990940094\n",
            "Epoch 1 , Train Accuracy:0.8744799494743347 , Test Accuracy:0.8500999808311462\n",
            "Epoch 2 , Train Accuracy:0.8753199577331543 , Test Accuracy:0.8571999669075012\n",
            "Epoch 3 , Train Accuracy:0.8783599734306335 , Test Accuracy:0.866599977016449\n",
            "Epoch 4 , Train Accuracy:0.8815199732780457 , Test Accuracy:0.8642999529838562\n",
            "Epoch 5 , Train Accuracy:0.8816999793052673 , Test Accuracy:0.8418999910354614\n",
            "Epoch 6 , Train Accuracy:0.8858199715614319 , Test Accuracy:0.8624999523162842\n",
            "Epoch 7 , Train Accuracy:0.8858599662780762 , Test Accuracy:0.8673999905586243\n",
            "Epoch 8 , Train Accuracy:0.8870999813079834 , Test Accuracy:0.8685999512672424\n",
            "Epoch 9 , Train Accuracy:0.8910799622535706 , Test Accuracy:0.8677999973297119\n",
            "Epoch 10 , Train Accuracy:0.8929199576377869 , Test Accuracy:0.858199954032898\n",
            "Epoch 11 , Train Accuracy:0.89301997423172 , Test Accuracy:0.8655999898910522\n",
            "Epoch 12 , Train Accuracy:0.8937999606132507 , Test Accuracy:0.8812999725341797\n",
            "Epoch 13 , Train Accuracy:0.894599974155426 , Test Accuracy:0.8641999959945679\n",
            "Epoch 14 , Train Accuracy:0.8944999575614929 , Test Accuracy:0.8536999821662903\n",
            "Epoch 15 , Train Accuracy:0.8971399664878845 , Test Accuracy:0.8792999982833862\n",
            "Epoch 16 , Train Accuracy:0.8973999619483948 , Test Accuracy:0.8650999665260315\n",
            "Epoch 17 , Train Accuracy:0.9005199670791626 , Test Accuracy:0.868399977684021\n",
            "Epoch 18 , Train Accuracy:0.8997399806976318 , Test Accuracy:0.8754000067710876\n",
            "Epoch 19 , Train Accuracy:0.9003799557685852 , Test Accuracy:0.8845999836921692\n",
            "Epoch 20 , Train Accuracy:0.9015799760818481 , Test Accuracy:0.8743000030517578\n",
            "Epoch 21 , Train Accuracy:0.9021799564361572 , Test Accuracy:0.8777999877929688\n",
            "Epoch 22 , Train Accuracy:0.9040600061416626 , Test Accuracy:0.8723999857902527\n",
            "Epoch 23 , Train Accuracy:0.9009199738502502 , Test Accuracy:0.8730999827384949\n",
            "Epoch 24 , Train Accuracy:0.9045199751853943 , Test Accuracy:0.8779999613761902\n",
            "Epoch 25 , Train Accuracy:0.905959963798523 , Test Accuracy:0.8747999668121338\n",
            "Epoch 26 , Train Accuracy:0.9049199819564819 , Test Accuracy:0.8752999901771545\n",
            "Epoch 27 , Train Accuracy:0.9078799486160278 , Test Accuracy:0.8746999502182007\n",
            "Epoch 28 , Train Accuracy:0.9078599810600281 , Test Accuracy:0.8747999668121338\n",
            "Epoch 29 , Train Accuracy:0.9064399600028992 , Test Accuracy:0.8799999952316284\n",
            "Epoch 30 , Train Accuracy:0.9103999733924866 , Test Accuracy:0.8712999820709229\n",
            "Epoch 31 , Train Accuracy:0.9075999855995178 , Test Accuracy:0.8797000050544739\n",
            "Epoch 32 , Train Accuracy:0.908840000629425 , Test Accuracy:0.886199951171875\n",
            "Epoch 33 , Train Accuracy:0.9085999727249146 , Test Accuracy:0.8800999522209167\n",
            "Epoch 34 , Train Accuracy:0.9096999764442444 , Test Accuracy:0.8855999708175659\n",
            "Epoch 35 , Train Accuracy:0.9101600050926208 , Test Accuracy:0.8842999935150146\n",
            "Epoch 36 , Train Accuracy:0.9106400012969971 , Test Accuracy:0.8829999566078186\n",
            "Epoch 37 , Train Accuracy:0.9101199507713318 , Test Accuracy:0.8737999796867371\n",
            "Epoch 38 , Train Accuracy:0.9119399785995483 , Test Accuracy:0.8907999992370605\n",
            "Epoch 39 , Train Accuracy:0.9118799567222595 , Test Accuracy:0.8787999749183655\n",
            "Epoch 40 , Train Accuracy:0.9120399951934814 , Test Accuracy:0.861799955368042\n",
            "Epoch 41 , Train Accuracy:0.9109599590301514 , Test Accuracy:0.8848999738693237\n",
            "Epoch 42 , Train Accuracy:0.9139399528503418 , Test Accuracy:0.8784999847412109\n",
            "Epoch 43 , Train Accuracy:0.9124599695205688 , Test Accuracy:0.8812999725341797\n",
            "Epoch 44 , Train Accuracy:0.914199948310852 , Test Accuracy:0.8869999647140503\n",
            "Epoch 45 , Train Accuracy:0.9151600003242493 , Test Accuracy:0.8913999795913696\n",
            "Epoch 46 , Train Accuracy:0.9132999777793884 , Test Accuracy:0.8682000041007996\n",
            "Epoch 47 , Train Accuracy:0.9172199964523315 , Test Accuracy:0.8816999793052673\n",
            "Epoch 48 , Train Accuracy:0.9135400056838989 , Test Accuracy:0.8791999816894531\n",
            "Epoch 49 , Train Accuracy:0.9163399934768677 , Test Accuracy:0.8886999487876892\n"
          ],
          "name": "stdout"
        }
      ]
    },
    {
      "cell_type": "code",
      "metadata": {
        "id": "iAHBPFTqK9f9"
      },
      "source": [],
      "execution_count": null,
      "outputs": []
    }
  ]
}